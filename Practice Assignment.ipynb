{
 "cells": [
  {
   "cell_type": "markdown",
   "id": "c0c9bb59-8db8-4384-94f8-efe449b71fed",
   "metadata": {},
   "source": [
    "# Practice Assignment"
   ]
  },
  {
   "cell_type": "markdown",
   "id": "368b5a2d-839f-4740-a2e9-7f0bb6a2cddc",
   "metadata": {},
   "source": [
    "# Objectives\n",
    "<div class=\"alert alert-block alert-info\" >\n",
    "After completing the lab you will be able to:\n",
    "\n",
    "* Create a dash board layout\n",
    "* Add a bar chart\n",
    "</div>"
   ]
  },
  {
   "cell_type": "markdown",
   "id": "47ca63f4-cbb7-4fc3-a33d-fb108bbc4c77",
   "metadata": {},
   "source": [
    "# Downloading and Prepping Data\n",
    "\n",
    "If you are using local jupyter lab, then  add these lines in your code:"
   ]
  },
  {
   "cell_type": "code",
   "execution_count": 1,
   "id": "f605f541-ef7e-4626-a405-2788a7cef5db",
   "metadata": {},
   "outputs": [
    {
     "data": {
      "text/plain": [
       "'\\n!pip install dash\\n!pip install dash==1.19.0\\n!pip install jupyter_dash\\n!pip install --upgrade plotly\\n!pip install jupyter-dash\\n'"
      ]
     },
     "execution_count": 1,
     "metadata": {},
     "output_type": "execute_result"
    }
   ],
   "source": [
    "\"\"\"\n",
    "!pip install dash\n",
    "!pip install dash==1.19.0\n",
    "!pip install jupyter_dash\n",
    "!pip install --upgrade plotly\n",
    "!pip install jupyter-dash\n",
    "\"\"\""
   ]
  },
  {
   "cell_type": "markdown",
   "id": "2f89101e-0017-4c33-9eef-24fe95919cfe",
   "metadata": {},
   "source": [
    "## TASK 1 - Dash Application layout\n",
    "Let's start with\n",
    "\n",
    "* Importing necessary libraries\n",
    "* Title added using html.H1() tag"
   ]
  },
  {
   "cell_type": "markdown",
   "id": "65c46eb9-39f7-4070-83c3-8e82f18fb696",
   "metadata": {},
   "source": [
    "## Add dropdown\n",
    "\n",
    "1.You can generate a drop down as shown below. You do by calling Dropdown off dash_core_components and passing the options as a list of dictionaries. You can set the default value using the value attribute and passing in the default option.\n",
    "\n",
    "__Note:__\n",
    "\n",
    "* Add a comma (,) before the placeholder in the skeleton file and then place the code.\n",
    "* The placeholder here is \"# Create dropdown \" in the skeleton file."
   ]
  },
  {
   "cell_type": "markdown",
   "id": "4c0eb318-3932-4c04-b98e-eacd423739fb",
   "metadata": {},
   "source": [
    "## Adding a dataframe\n",
    "\n",
    "Assume you have a dataframe as:\n",
    "\n",
    "__Note:__ Place the code under the placeholder # Add Dataframe in the skeleton file copied before."
   ]
  },
  {
   "cell_type": "code",
   "execution_count": 2,
   "id": "1f97ecd6-1eeb-4975-822d-bf9c6086bb6f",
   "metadata": {},
   "outputs": [],
   "source": [
    "# Import required packages\n",
    "import pandas as pd\n",
    "import dash\n",
    "from jupyter_dash import JupyterDash\n",
    "import dash_core_components as dcc\n",
    "import dash_html_components as html\n",
    "import plotly.express as px\n",
    "from dash.dependencies import Input, Output\n",
    "\n",
    "# Add Dataframe\n",
    "df = pd.DataFrame({\n",
    "    \"Fruit\": [\"Apples\", \"Oranges\", \"Bananas\", \"Apples\", \"Oranges\", \"Bananas\"],\n",
    "    \"Amount\": [4, 1, 2, 2, 4, 5],\n",
    "    \"City\": [\"SF\", \"SF\", \"SF\", \"NYC\", \"MTL\", \"NYC\"]\n",
    "})\n",
    "\n",
    "# Add a bar graph figure\n",
    "fig=px.bar(df, x=\"Fruit\", y=\"Amount\", color=\"City\", barmode=\"group\")\n",
    "\n",
    "#app = dash.Dash()\n",
    "app = JupyterDash(__name__) #This line used for JupyterLab\n",
    "\n",
    "app.layout = html.Div(children=[\n",
    "    html.H1(\n",
    "        children='Dashboard',\n",
    "        style={\n",
    "            'textAlign': 'center'\n",
    "        }\n",
    "    ),\n",
    "    \n",
    "    # Create dropdown\n",
    "    dcc.Dropdown(options=[\n",
    "            {'label': 'New York City', 'value': 'NYC'},\n",
    "            {'label': 'Montréal', 'value': 'MTL'},\n",
    "            {'label': 'San Francisco', 'value': 'SF'}\n",
    "        ],\n",
    "        value='NYC' # Providing a vallue to dropdown\n",
    "    ),\n",
    "\n",
    "    # Bar graph\n",
    "    dcc.Graph(id=\"example-graph-2\", figure=fig)\n",
    "    \n",
    "])\n",
    "\n",
    "# Run Application\n",
    "if __name__ == '__main__':\n",
    "    #app.run_server(mode='inline')\n",
    "    \n",
    "    #For JupyterLab\n",
    "    app.run_server(mode='jupyterlab', port = 8090, dev_tools_ui=True, debug=True,dev_tools_hot_reload =True, threaded=True)"
   ]
  },
  {
   "cell_type": "markdown",
   "id": "b7b0b172-d5f6-46a8-8e94-49f6c93f3316",
   "metadata": {},
   "source": [
    "## Task 2: Create Bar graph\n",
    "The __plotly.express__ module (usually imported as px) contains functions that can create entire figures at once, and is referred to as ___Plotly Express or PX__. Plotly Express is a built-in part of the plotly library, and is the recommended starting point for creating most common figures\n",
    "\n",
    "In order to create a graph on our layout, we use the Graph class from __dash_core_components__.\n",
    "\n",
    "__Note:__ Place the code under the placeholder # Add a bar graph figure in the skeleton file copied before."
   ]
  },
  {
   "cell_type": "markdown",
   "id": "b42da5d5-da61-45c0-bd30-ef49ee40c629",
   "metadata": {},
   "source": [
    "__Note:__ Place the __dcc.Graph__ under the placeholder # Bar graph figure in the skeleton file copied before and also __add a comma ,__ before the placeholder."
   ]
  },
  {
   "cell_type": "markdown",
   "id": "9b601fcc-9684-4127-bd26-3c4ad36d1f95",
   "metadata": {},
   "source": [
    "__Later in the browser address bar use this:__\n",
    "\n",
    "http://localhost:8090"
   ]
  },
  {
   "cell_type": "markdown",
   "id": "0191681f-ba14-45b4-ba30-85c4ca04ef54",
   "metadata": {},
   "source": [
    "# Congratulations, you have successfully created your dash application!"
   ]
  },
  {
   "cell_type": "code",
   "execution_count": null,
   "id": "56ade44d-96c0-4dca-9722-86aae407b06e",
   "metadata": {},
   "outputs": [],
   "source": []
  }
 ],
 "metadata": {
  "kernelspec": {
   "display_name": "Python 3 (ipykernel)",
   "language": "python",
   "name": "python3"
  },
  "language_info": {
   "codemirror_mode": {
    "name": "ipython",
    "version": 3
   },
   "file_extension": ".py",
   "mimetype": "text/x-python",
   "name": "python",
   "nbconvert_exporter": "python",
   "pygments_lexer": "ipython3",
   "version": "3.9.12"
  }
 },
 "nbformat": 4,
 "nbformat_minor": 5
}
